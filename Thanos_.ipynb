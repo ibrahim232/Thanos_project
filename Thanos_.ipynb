{
 "cells": [
  {
   "cell_type": "markdown",
   "metadata": {},
   "source": [
    "<img src=\"thanos.jpg\">"
   ]
  },
  {
   "cell_type": "markdown",
   "metadata": {},
   "source": [
    "# Thanos Project\n",
    "\n",
    "##### Thanos has aqcuired the infinity gauntlet, and with one snap of his fingers he will kill half the people in the universe. For this project, you need to create the following functions:\n",
    "\n",
    "1. `get_universe_people`: This function returns a list of the name of the people (files) in `universe` folder\n",
    "2. `kill_person`: This function takes as input the name of the person (file) and kills them (deletes it) \n",
    "3. `thanos_snap`: This function calculates the number of the people (files) in the `universe` folder and kills them (deletes them)\n",
    "\n",
    "Test your functions using the necessary code and run the thanos snap. Validate that half the population is dead!"
   ]
  },
  {
   "cell_type": "code",
   "execution_count": 4,
   "metadata": {},
   "outputs": [],
   "source": [
    "import os\n",
    "import time\n",
    "import random"
   ]
  },
  {
   "cell_type": "code",
   "execution_count": 5,
   "metadata": {},
   "outputs": [],
   "source": [
    "def get_universe_people(universe_folder='parallel_backup'):\n",
    "    people = os.listdir(universe_folder)\n",
    "    return people"
   ]
  },
  {
   "cell_type": "code",
   "execution_count": 22,
   "metadata": {},
   "outputs": [],
   "source": [
    "def kill_person(name,universe_folder='parallel_backup'):\n",
    "    print('killing',name)\n",
    "    os.remove(f'{universe_folder}/{name}')\n",
    "    "
   ]
  },
  {
   "cell_type": "code",
   "execution_count": 23,
   "metadata": {},
   "outputs": [],
   "source": [
    "universe = get_universe_people()"
   ]
  },
  {
   "cell_type": "code",
   "execution_count": 24,
   "metadata": {},
   "outputs": [
    {
     "data": {
      "text/plain": [
       "['Adam Sandler.jpg',\n",
       " 'Angelina Julie.png',\n",
       " 'Ariana Grande.jpeg',\n",
       " 'Bruce Lee.jpg',\n",
       " 'Dwayne Johnson.jpg',\n",
       " 'Elton John.jpg',\n",
       " 'Jackie Chan.jpg',\n",
       " 'Jeff Bezos.jpg',\n",
       " 'Jennifer Aniston.jpg',\n",
       " 'Jerry Seinfeld.jpg',\n",
       " 'Johnny Depp.jpg',\n",
       " 'Julia Roberts.jpg',\n",
       " 'Kate Upton.jpg',\n",
       " 'Keanu Reeves.jpg',\n",
       " 'Kevin Hart.jpg',\n",
       " 'Mark Ruffalo.jpg',\n",
       " 'Michael Jordan.jpg',\n",
       " 'Miranda Cosgrove.jpg',\n",
       " 'Neil Patrick Harris.jpg',\n",
       " 'Nicole Kidman.jpg',\n",
       " 'Robin Williams.jpg',\n",
       " 'Steve Carell.jpg',\n",
       " 'Sylvester Stallone.jpg',\n",
       " 'Tom Cruise.jpg',\n",
       " 'Will Smith.jpg']"
      ]
     },
     "execution_count": 24,
     "metadata": {},
     "output_type": "execute_result"
    }
   ],
   "source": [
    "universe"
   ]
  },
  {
   "cell_type": "code",
   "execution_count": 25,
   "metadata": {},
   "outputs": [
    {
     "data": {
      "text/plain": [
       "'Elton John.jpg'"
      ]
     },
     "execution_count": 25,
     "metadata": {},
     "output_type": "execute_result"
    }
   ],
   "source": [
    "random_victim =random.choice(universe)\n",
    "random_victim"
   ]
  },
  {
   "cell_type": "code",
   "execution_count": 26,
   "metadata": {},
   "outputs": [
    {
     "data": {
      "text/plain": [
       "12"
      ]
     },
     "execution_count": 26,
     "metadata": {},
     "output_type": "execute_result"
    }
   ],
   "source": [
    "len(universe)//2"
   ]
  },
  {
   "cell_type": "code",
   "execution_count": 27,
   "metadata": {},
   "outputs": [],
   "source": [
    "def thanos_snap():\n",
    "    universe = get_universe_people()\n",
    "    half_universe = len(universe)//2\n",
    "    # for loop to kill half of the universe\n",
    "    for _ in range(half_universe):\n",
    "        # choose random victim\n",
    "        random_victim = random.choice(universe)\n",
    "        kill_person(random_victim)\n",
    "        # remove the killed person to avoid duplicate\n",
    "        universe.remove(random_victim)\n",
    "        time.sleep(1)\n",
    "    print('Finally balanced, as all things should be')"
   ]
  },
  {
   "cell_type": "code",
   "execution_count": 28,
   "metadata": {},
   "outputs": [
    {
     "name": "stdout",
     "output_type": "stream",
     "text": [
      "killing Miranda Cosgrove.jpg\n",
      "killing Robin Williams.jpg\n",
      "killing Kevin Hart.jpg\n",
      "killing Julia Roberts.jpg\n",
      "killing Johnny Depp.jpg\n",
      "killing Dwayne Johnson.jpg\n",
      "killing Jeff Bezos.jpg\n",
      "killing Kate Upton.jpg\n",
      "killing Ariana Grande.jpeg\n",
      "killing Will Smith.jpg\n",
      "killing Elton John.jpg\n",
      "killing Bruce Lee.jpg\n",
      "Finally balanced, as all things should be\n"
     ]
    }
   ],
   "source": [
    "thanos_snap()"
   ]
  }
 ],
 "metadata": {
  "interpreter": {
   "hash": "911cfdf4ee29fcb964d36255e478fd122ddd7ef148a5798ecfb832de08390f17"
  },
  "kernelspec": {
   "display_name": "Python 3.9.6 64-bit",
   "language": "python",
   "name": "python3"
  },
  "language_info": {
   "codemirror_mode": {
    "name": "ipython",
    "version": 3
   },
   "file_extension": ".py",
   "mimetype": "text/x-python",
   "name": "python",
   "nbconvert_exporter": "python",
   "pygments_lexer": "ipython3",
   "version": "3.10.9"
  },
  "orig_nbformat": 4
 },
 "nbformat": 4,
 "nbformat_minor": 2
}
